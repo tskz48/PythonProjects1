{
 "cells": [
  {
   "cell_type": "code",
   "execution_count": 10,
   "metadata": {},
   "outputs": [],
   "source": [
    "from bs4 import BeautifulSoup #webscrapping must take place in .ipynb, not .py\n",
    "import requests\n",
    "import pandas as pd\n"
   ]
  },
  {
   "cell_type": "code",
   "execution_count": null,
   "metadata": {},
   "outputs": [],
   "source": [
    "\n",
    "page_to_scrape=requests.get(\"https://en.wikipedia.org/wiki/List_of_largest_companies_in_the_United_States_by_revenue\")\n",
    "soup=BeautifulSoup(page_to_scrape.text,'html')\n",
    "table=soup.findall('table',attrs='class:wikitable sortable')\n",
    "table_column_name=table.findall('th')\n",
    "dataofcompanies=table.findall('tr')\n",
    "tablecolumns=[title_names.text.strip() for title_names in table_column_name]\n",
    "p=pd.dataframe(columns=tablecolumns)\n",
    "for row in dataofcompanies[1:]:\n",
    "    row_data=row.find_all['td']\n",
    "    individualrow = [data.text.strip() for data in row_data]\n",
    "    print(individualrow)\n",
    "    p.loc[len(p)]=individualrow\n",
    "\n",
    "\n",
    "p.to_csv(\"Top100USCompanies.csv\",index=False)\n",
    "\n"
   ]
  },
  {
   "cell_type": "code",
   "execution_count": null,
   "metadata": {},
   "outputs": [],
   "source": []
  }
 ],
 "metadata": {
  "kernelspec": {
   "display_name": "VScode",
   "language": "python",
   "name": "python3"
  },
  "language_info": {
   "codemirror_mode": {
    "name": "ipython",
    "version": 3
   },
   "file_extension": ".py",
   "mimetype": "text/x-python",
   "name": "python",
   "nbconvert_exporter": "python",
   "pygments_lexer": "ipython3",
   "version": "3.12.1"
  }
 },
 "nbformat": 4,
 "nbformat_minor": 2
}
